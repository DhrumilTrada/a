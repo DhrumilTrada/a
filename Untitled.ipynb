{
 "cells": [
  {
   "cell_type": "markdown",
   "metadata": {},
   "source": [
    "## NumPy Sort"
   ]
  },
  {
   "cell_type": "code",
   "execution_count": 2,
   "metadata": {},
   "outputs": [],
   "source": [
    "import numpy as np"
   ]
  },
  {
   "cell_type": "code",
   "execution_count": null,
   "metadata": {},
   "outputs": [],
   "source": [
    "a=np.array([5,1,3,6,4])\n",
    "print(\"Sorted array \",np.sort(a))\n",
    "print(\"Original array \",a)"
   ]
  },
  {
   "cell_type": "code",
   "execution_count": null,
   "metadata": {},
   "outputs": [],
   "source": [
    "b=np.random.randint(1,100,24).reshape(6,4)\n",
    "print(b.ndim)\n",
    "print(\"Original b \",b)\n",
    "print()\n",
    "print(\"Sorted b axis=0\",np.sort(b,axis=0))\n",
    "print()\n",
    "print(\"Sorted b axis=1\",np.sort(b,axis=1))\n",
    "# print()\n",
    "# print(\"Sorted b axis=2\",np.sort(b,axis=2)) for 3-d ARRAY\n"
   ]
  },
  {
   "cell_type": "code",
   "execution_count": 13,
   "metadata": {},
   "outputs": [
    {
     "name": "stdout",
     "output_type": "stream",
     "text": [
      "[array([1, 2]), array([3, 4]), array([5, 6])]\n"
     ]
    }
   ],
   "source": [
    "c=np.array([1,2,3,4,5,6])\n",
    "new=np.array_split(c,3)\n",
    "print(new)"
   ]
  },
  {
   "cell_type": "code",
   "execution_count": 16,
   "metadata": {},
   "outputs": [
    {
     "name": "stdout",
     "output_type": "stream",
     "text": [
      "[array([[1, 2],\n",
      "       [3, 4],\n",
      "       [5, 6]]), array([[ 7,  8],\n",
      "       [ 9, 10],\n",
      "       [11, 12]])]\n"
     ]
    }
   ],
   "source": [
    "d=np.array([[1,2],[3,4],[5,6],[7,8],[9,10],[11,12]])\n",
    "new1=np.array_split(d,2)\n",
    "print(new1)"
   ]
  },
  {
   "cell_type": "code",
   "execution_count": 20,
   "metadata": {},
   "outputs": [
    {
     "name": "stdout",
     "output_type": "stream",
     "text": [
      "1\n",
      "2\n",
      "3\n",
      "4\n",
      "5\n",
      "\n",
      "1\n",
      "2\n",
      "3\n",
      "4\n",
      "5\n"
     ]
    }
   ],
   "source": [
    "x=np.array([1,2,3,4,5])\n",
    "for i in x :\n",
    "    print(i)\n",
    "print()\n",
    "for j in np.nditer(x):\n",
    "    print(j)"
   ]
  },
  {
   "cell_type": "code",
   "execution_count": 3,
   "metadata": {},
   "outputs": [
    {
     "name": "stdout",
     "output_type": "stream",
     "text": [
      "Area is land\n",
      "Gun is AK47\n",
      "Area is sea\n",
      "Gun is AK47\n"
     ]
    }
   ],
   "source": [
    "from abc import ABC,abstractmethod\n",
    "class Defence(ABC) :\n",
    "    @abstractmethod \n",
    "    \n",
    "    def area(self) :\n",
    "        pass\n",
    "    def gun(self):\n",
    "        print(\"Gun is AK47\")\n",
    "        \n",
    "class Army(Defence):\n",
    "    def area(self):\n",
    "        print(\"Area is land\")\n",
    "\n",
    "class Navy(Defence):\n",
    "    def area(self):\n",
    "        print(\"Area is sea\")\n",
    "a=Army()\n",
    "b=Navy()\n",
    "a.area()\n",
    "a.gun()\n",
    "b.area()\n",
    "b.gun()\n",
    "\n"
   ]
  },
  {
   "cell_type": "code",
   "execution_count": 12,
   "metadata": {},
   "outputs": [
    {
     "name": "stdout",
     "output_type": "stream",
     "text": [
      "I am from D \n",
      "I am from A \n",
      "I am from B \n"
     ]
    }
   ],
   "source": [
    "class A:\n",
    "    def which(self):\n",
    "        print(\"I am from A \")\n",
    "class B(A) :\n",
    "    def which(self):\n",
    "        print(\"I am from B \")\n",
    "class C(A) :\n",
    "    def which(self):\n",
    "        print(\"I am from C \")\n",
    "class D(C,B) :\n",
    "    def which(self):\n",
    "        print(\"I am from D \")\n",
    "d=D()\n",
    "d.which()\n",
    "a=A()\n",
    "a.which()\n",
    "b=B()\n",
    "b.which()\n",
    " \n",
    "                \n",
    "        \n",
    "        \n",
    "    "
   ]
  },
  {
   "cell_type": "code",
   "execution_count": null,
   "metadata": {},
   "outputs": [],
   "source": []
  }
 ],
 "metadata": {
  "kernelspec": {
   "display_name": "Python 3",
   "language": "python",
   "name": "python3"
  },
  "language_info": {
   "codemirror_mode": {
    "name": "ipython",
    "version": 3
   },
   "file_extension": ".py",
   "mimetype": "text/x-python",
   "name": "python",
   "nbconvert_exporter": "python",
   "pygments_lexer": "ipython3",
   "version": "3.8.5"
  }
 },
 "nbformat": 4,
 "nbformat_minor": 4
}
