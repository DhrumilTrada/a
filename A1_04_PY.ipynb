{
 "cells": [
  {
   "cell_type": "code",
   "execution_count": 2,
   "metadata": {
    "scrolled": false
   },
   "outputs": [
    {
     "ename": "TypeError",
     "evalue": "Can't instantiate abstract class Father with abstract methods disp",
     "output_type": "error",
     "traceback": [
      "\u001b[1;31m---------------------------------------------------------------------------\u001b[0m",
      "\u001b[1;31mTypeError\u001b[0m                                 Traceback (most recent call last)",
      "\u001b[1;32m<ipython-input-2-3f7ba040cc74>\u001b[0m in \u001b[0;36m<module>\u001b[1;34m\u001b[0m\n\u001b[0;32m      9\u001b[0m     \u001b[1;32mdef\u001b[0m \u001b[0mdisp\u001b[0m\u001b[1;33m(\u001b[0m\u001b[0mself\u001b[0m\u001b[1;33m)\u001b[0m \u001b[1;33m:\u001b[0m\u001b[1;33m\u001b[0m\u001b[1;33m\u001b[0m\u001b[0m\n\u001b[0;32m     10\u001b[0m         \u001b[0mprint\u001b[0m\u001b[1;33m(\u001b[0m\u001b[1;34m'Defining abstract method'\u001b[0m\u001b[1;33m)\u001b[0m\u001b[1;33m\u001b[0m\u001b[1;33m\u001b[0m\u001b[0m\n\u001b[1;32m---> 11\u001b[1;33m \u001b[0mf\u001b[0m \u001b[1;33m=\u001b[0m \u001b[0mFather\u001b[0m\u001b[1;33m(\u001b[0m\u001b[1;33m)\u001b[0m\u001b[1;33m\u001b[0m\u001b[1;33m\u001b[0m\u001b[0m\n\u001b[0m\u001b[0;32m     12\u001b[0m \u001b[0ms\u001b[0m \u001b[1;33m=\u001b[0m \u001b[0mSon\u001b[0m\u001b[1;33m(\u001b[0m\u001b[1;33m)\u001b[0m\u001b[1;33m\u001b[0m\u001b[1;33m\u001b[0m\u001b[0m\n\u001b[0;32m     13\u001b[0m \u001b[0ms\u001b[0m\u001b[1;33m.\u001b[0m\u001b[0mdisp\u001b[0m\u001b[1;33m(\u001b[0m\u001b[1;33m)\u001b[0m\u001b[1;33m\u001b[0m\u001b[1;33m\u001b[0m\u001b[0m\n",
      "\u001b[1;31mTypeError\u001b[0m: Can't instantiate abstract class Father with abstract methods disp"
     ]
    }
   ],
   "source": [
    "from abc import ABC, abstractmethod\n",
    "class Father(ABC) :\n",
    "    @abstractmethod\n",
    "    def disp(self) :\n",
    "        pass\n",
    "    def show(self) :\n",
    "        print('Concrete method')\n",
    "class Son(Father) :\n",
    "    def disp(self) :\n",
    "        print('Defining abstract method')\n",
    "f = Father()\n",
    "s = Son()\n",
    "s.disp()\n",
    "s.show()"
   ]
  },
  {
   "cell_type": "code",
   "execution_count": 8,
   "metadata": {},
   "outputs": [
    {
     "name": "stdout",
     "output_type": "stream",
     "text": [
      "1\n",
      "2\n",
      "3\n",
      "(10,)\n",
      "(3, 4)\n",
      "(2, 2, 2)\n",
      "10\n",
      "12\n",
      "8\n",
      "4\n",
      "8\n",
      "4\n"
     ]
    }
   ],
   "source": [
    "import numpy as np\n",
    "# c = np.arange(1,35,2)\n",
    "# a = np.array([1,2,0],dtype=bool)\n",
    "# print(a)\n",
    "# print(c)\n",
    "# print(np.arange(1,17).reshape(2,2,2,2))\n",
    "# print(np.ones((3,4)))\n",
    "# print(np.random.random((3,4)))\n",
    "# print(np.random.randint(9,size=(5,2)))\n",
    "a1 = np.arange(10,dtype=np.int32)\n",
    "a2 = np.arange(12,dtype=float).reshape(3,4)\n",
    "a3 = np.arange(8).reshape(2,2,2)\n",
    "print(a1.ndim)\n",
    "print(a2.ndim)\n",
    "print(a3.ndim)\n",
    "print(a1.shape)\n",
    "print(a2.shape)\n",
    "print(a3.shape)\n",
    "print(a1.size)\n",
    "print(a2.size)\n",
    "print(a3.size)\n",
    "print(a1.itemsize)\n",
    "print(a2.itemsize)\n",
    "print(a3.itemsize)"
   ]
  },
  {
   "cell_type": "code",
   "execution_count": 524,
   "metadata": {},
   "outputs": [
    {
     "name": "stdout",
     "output_type": "stream",
     "text": [
      "[[7 8]\n",
      " [5 6]\n",
      " [3 4]\n",
      " [1 2]]\n",
      "\n",
      "[[2 1]\n",
      " [4 3]\n",
      " [6 5]\n",
      " [8 7]]\n"
     ]
    }
   ],
   "source": [
    "#### import numpy as np\n",
    "# a = np.arange(1,10).reshape(3,3)\n",
    "# print(a)\n",
    "# print(np.max(a,axis=0))\n",
    "# print(np.max(a,axis=1))\n",
    "# print(np.sum(a,axis=0))\n",
    "# print(np.sum(a,axis=1))\n",
    "# b = np.sum(a,axis=1).reshape(3,1)\n",
    "# c = np.concatenate((a,b),axis=1)\n",
    "# print(c)\n",
    "# a = np.array([[[1,0],[0,2]],[[1,1],[3,2]]])\n",
    "# print(a)\n",
    "# print()\n",
    "# print(np.sum(a,axis=0))\n",
    "# print()\n",
    "# print(np.sum(a,axis=1))\n",
    "# print()\n",
    "# print(np.sum(a,axis=2))\n",
    "# b = np.random.randint(1,100,24).reshape(6,4)\n",
    "# print(b)\n",
    "# print(np.sort(b,axis=0))\n",
    "# print(np.sort(b,axis=1))\n",
    "# arr1 = np.arange(1,9).reshape(2,2,2)\n",
    "# print(arr1)\n",
    "# print()\n",
    "# print()\n",
    "# arr2 = np.arange(10,18).reshape(2,2,2)\n",
    "# print(arr2)\n",
    "# print()\n",
    "# print()\n",
    "# print(np.concatenate((arr1,arr2),axis=0))\n",
    "# print()\n",
    "# print()\n",
    "# print(np.concatenate((arr1,arr2),axis=1))\n",
    "# a = np.array([1,2,1,1,4,5,2,2,6,7,3,3,3])\n",
    "# print(np.where(a==1,0,a))\n",
    "# b = np.array([[1,2],[3,4],[5,6]])\n",
    "# print(np.where(b>3))\n",
    "# a = np.array([1,2,4,6,7,3,5])\n",
    "# print(np.flip(a))\n",
    "a = np.array([[1,2],[3,4],[5,6],[7,8]])\n",
    "print(np.flip(a,axis=0))\n",
    "\n",
    "print()\n",
    "print(np.flip(a,axis=1))"
   ]
  },
  {
   "cell_type": "code",
   "execution_count": 52,
   "metadata": {},
   "outputs": [
    {
     "data": {
      "image/png": "[encoded data removed]",
      "text/plain": [
       "<Figure size 432x288 with 1 Axes>"
      ]
     },
     "metadata": {
      "needs_background": "light"
     },
     "output_type": "display_data"
    }
   ],
   "source": [
    "import matplotlib.pyplot as plt\n",
    "import numpy as np\n",
    "# xpoints = np.array([1,8])\n",
    "ypoints = np.array([3,8,1,10,5,7])\n",
    "plt.plot(np.array([1,2,3,4,8,10]),ypoints,marker='D',ms=20,mec='b',mfc='m',ls='-.',c='b',linewidth=10)\n",
    "plt.show()"
   ]
  },
  {
   "cell_type": "code",
   "execution_count": 79,
   "metadata": {},
   "outputs": [
    {
     "data": {
      "image/png": "[encoded data removed]",
      "text/plain": [
       "<Figure size 432x288 with 1 Axes>"
      ]
     },
     "metadata": {
      "needs_background": "light"
     },
     "output_type": "display_data"
    }
   ],
   "source": [
    "y1 = np.array([3,8,1,10])\n",
    "y2 = np.array([6,2,7,11])\n",
    "plt.plot(y1)\n",
    "plt.plot(y2)\n",
    "font1 = {'family':'serif','color':'blue','size':20}\n",
    "font2 = {'family':'serif','color':'darkred','size':20}\n",
    "font3 = {'family':'fantasy','color':'magenta','size':20}\n",
    "plt.xlabel('X-axis',fontdict=font1)\n",
    "plt.ylabel('Y-axis',fontdict=font2)\n",
    "plt.title('Graph',fontdict=font3)\n",
    "plt.grid(color='green',ls='--',linewidth=0.5 , axis='y')\n",
    "plt.show()"
   ]
  },
  {
   "cell_type": "code",
   "execution_count": null,
   "metadata": {},
   "outputs": [],
   "source": []
  }
 ],
 "metadata": {
  "kernelspec": {
   "display_name": "Python 3",
   "language": "python",
   "name": "python3"
  },
  "language_info": {
   "codemirror_mode": {
    "name": "ipython",
    "version": 3
   },
   "file_extension": ".py",
   "mimetype": "text/x-python",
   "name": "python",
   "nbconvert_exporter": "python",
   "pygments_lexer": "ipython3",
   "version": "3.8.5"
  }
 },
 "nbformat": 4,
 "nbformat_minor": 4
}
